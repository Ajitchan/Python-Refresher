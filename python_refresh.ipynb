{
  "nbformat": 4,
  "nbformat_minor": 0,
  "metadata": {
    "colab": {
      "name": "python_refresh.ipynb",
      "provenance": [],
      "collapsed_sections": [
        "f0Q9E_D2xQ0p",
        "Ew1sjNNn32gI",
        "gUZq9YX14GKY",
        "MBqjv2o86EA8",
        "r61v3qCkmccF",
        "c8HNJse6pA75",
        "BP68U6oNSRRy",
        "dHsVaaNcXlNA",
        "AppURA5We2Dq",
        "Z9uB4wu8gmrp",
        "r-S5t-xWHFPj",
        "t-aWFI2xtphu",
        "alEoLW-T8t84",
        "98y4ynDU0c45"
      ],
      "authorship_tag": "ABX9TyMVyQvVtaujsyR0LmWyhDN3",
      "include_colab_link": true
    },
    "kernelspec": {
      "name": "python3",
      "display_name": "Python 3"
    }
  },
  "cells": [
    {
      "cell_type": "markdown",
      "metadata": {
        "id": "view-in-github",
        "colab_type": "text"
      },
      "source": [
        "<a href=\"https://colab.research.google.com/github/Ajitchan/Python-Refresher/blob/main/python_refresh.ipynb\" target=\"_parent\"><img src=\"https://colab.research.google.com/assets/colab-badge.svg\" alt=\"Open In Colab\"/></a>"
      ]
    },
    {
      "cell_type": "markdown",
      "metadata": {
        "id": "f0Q9E_D2xQ0p"
      },
      "source": [
        "# Variables and Data types:\n",
        "\n"
      ]
    },
    {
      "cell_type": "code",
      "metadata": {
        "colab": {
          "base_uri": "https://localhost:8080/"
        },
        "id": "SDEuuAYwyFo4",
        "outputId": "1a65ef09-0541-4755-d3c0-4f85574836cc"
      },
      "source": [
        "# text types: str\n",
        "# numeric types: int, float, complex\n",
        "# sequence types: list, tuple, range\n",
        "# Mapping type: dict\n",
        "# set types: set, frozenset\n",
        "# Boolean type: bool\n",
        "# binary types: bytes, bytearray, memoryview\n",
        "\n",
        "# int 0\n",
        "# str 'Ajit', 'jack'\n",
        "# bool True, False\n",
        "# float 0.333\n",
        "\n",
        "\n",
        "x = 'Ajit' \n",
        "print(x)\n"
      ],
      "execution_count": null,
      "outputs": [
        {
          "output_type": "stream",
          "text": [
            "Ajit\n"
          ],
          "name": "stdout"
        }
      ]
    },
    {
      "cell_type": "markdown",
      "metadata": {
        "id": "Ew1sjNNn32gI"
      },
      "source": [
        "# Basic operators & inputs:"
      ]
    },
    {
      "cell_type": "code",
      "metadata": {
        "id": "22BDCY91zY9C"
      },
      "source": [
        "# Assignment operators:\n",
        "x + = 3 # same as x = x + 3\n",
        "\n",
        "# Arithmetic operators:\n",
        "+\n",
        "-\n",
        "*\n",
        "/\n",
        "% # modulus\n",
        "** # exponentiation\n",
        "// # floor division"
      ],
      "execution_count": null,
      "outputs": []
    },
    {
      "cell_type": "code",
      "metadata": {
        "id": "EEOP3LdG4C57"
      },
      "source": [
        "# Input\n",
        "print('What is your age?')\n",
        "age = input()\n",
        "print('Your age is',age,'.')"
      ],
      "execution_count": null,
      "outputs": []
    },
    {
      "cell_type": "code",
      "metadata": {
        "id": "_mZYV2Sl6F5a"
      },
      "source": [
        "# Operator\n",
        "x = 122\n",
        "y = 22"
      ],
      "execution_count": null,
      "outputs": []
    },
    {
      "cell_type": "code",
      "metadata": {
        "colab": {
          "base_uri": "https://localhost:8080/"
        },
        "id": "V8RSkXHX7X1t",
        "outputId": "208b9fa7-e351-40e0-aa38-865cdc57bc7d"
      },
      "source": [
        "x // y # integer division (division output as a whole number)"
      ],
      "execution_count": null,
      "outputs": [
        {
          "output_type": "execute_result",
          "data": {
            "text/plain": [
              "5"
            ]
          },
          "metadata": {
            "tags": []
          },
          "execution_count": 16
        }
      ]
    },
    {
      "cell_type": "code",
      "metadata": {
        "colab": {
          "base_uri": "https://localhost:8080/"
        },
        "id": "ABBE1KQe7esM",
        "outputId": "ac73a924-7efa-4a18-b684-112e8eb3e80f"
      },
      "source": [
        "x ** y # exponent "
      ],
      "execution_count": null,
      "outputs": [
        {
          "output_type": "execute_result",
          "data": {
            "text/plain": [
              "7941751154754772449337069055321507461001641984"
            ]
          },
          "metadata": {
            "tags": []
          },
          "execution_count": 18
        }
      ]
    },
    {
      "cell_type": "code",
      "metadata": {
        "colab": {
          "base_uri": "https://localhost:8080/"
        },
        "id": "l1vWu9me7vbZ",
        "outputId": "4baa6cbf-faaf-40ee-c6da-343793ce04e3"
      },
      "source": [
        "x % y # modulus"
      ],
      "execution_count": null,
      "outputs": [
        {
          "output_type": "execute_result",
          "data": {
            "text/plain": [
              "12"
            ]
          },
          "metadata": {
            "tags": []
          },
          "execution_count": 19
        }
      ]
    },
    {
      "cell_type": "code",
      "metadata": {
        "colab": {
          "base_uri": "https://localhost:8080/"
        },
        "id": "zGGFHW4T83V0",
        "outputId": "ecd8ff1c-dc39-47b9-e31d-effd39c0ac15"
      },
      "source": [
        "# Simple operation\n",
        "print ('number_1: ')\n",
        "num1 = input()\n",
        "print ('number_2: ')\n",
        "num2 = input()\n",
        "\n",
        "exponent = int(num1) ** int(num2)\n",
        "print('exponent of',num1,'and',num2,'is',exponent)\n",
        "print('type of exponent is',type(exponent))"
      ],
      "execution_count": null,
      "outputs": [
        {
          "output_type": "stream",
          "text": [
            "number_1: \n",
            "2\n",
            "number_2: \n",
            "12\n",
            "exponent of 2 and 12 is 4096\n",
            "type of exponent is <class 'int'>\n"
          ],
          "name": "stdout"
        }
      ]
    },
    {
      "cell_type": "markdown",
      "metadata": {
        "id": "gUZq9YX14GKY"
      },
      "source": [
        "# Conditions:\n"
      ]
    },
    {
      "cell_type": "code",
      "metadata": {
        "colab": {
          "base_uri": "https://localhost:8080/"
        },
        "id": "jix0i2TC4Vk9",
        "outputId": "229b3e33-94ef-4a6d-9180-726581d97765"
      },
      "source": [
        "# < , > , == , != (comparison operator)\n",
        "\n",
        "print(18 > 20)\n",
        "\n",
        "print('Ajit' != 'AJIT')\n",
        "print('Ajit' != 'Ajit')"
      ],
      "execution_count": null,
      "outputs": [
        {
          "output_type": "stream",
          "text": [
            "False\n",
            "True\n",
            "False\n"
          ],
          "name": "stdout"
        }
      ]
    },
    {
      "cell_type": "code",
      "metadata": {
        "id": "kyIJ6kUlrVgJ"
      },
      "source": [
        "# IF/ELIF/ELSE (control structure) \n",
        "# and, or, not (logical operator)\n",
        "# is, is not (identiy operator)\n",
        "# in, not in (membership operator)\n",
        "# &, |, ^ , ~, <<, >> (Bitwise operator)\n",
        "x = 1\n",
        "y = -1\n",
        "if x == y:\n",
        "  print(\"It's equal\")"
      ],
      "execution_count": null,
      "outputs": []
    },
    {
      "cell_type": "code",
      "metadata": {
        "id": "fyHOnC2Wt1-_"
      },
      "source": [
        "age = int(input(\"What's your age? \"))\n",
        "if age >= 20:\n",
        "  print(\"You're an adult\")\n",
        "else:\n",
        "  print(\"You're a teen\")"
      ],
      "execution_count": null,
      "outputs": []
    },
    {
      "cell_type": "code",
      "metadata": {
        "colab": {
          "base_uri": "https://localhost:8080/"
        },
        "id": "rHhpSFK3wcv4",
        "outputId": "d0a7180f-346e-41e4-d4ca-f21b159d6876"
      },
      "source": [
        "name = input(\"What's your name? \")\n",
        "if name == 'Ajit'or name == 'AJIT':\n",
        "  print('Approved user')\n",
        "elif name == 'D.Ajit':\n",
        "  print(\"Don't include initial of your name.\")\n",
        "else:\n",
        "  print('This user is not approved.')"
      ],
      "execution_count": null,
      "outputs": [
        {
          "output_type": "stream",
          "text": [
            "What's your name? raj\n",
            "This user is not approved.\n"
          ],
          "name": "stdout"
        }
      ]
    },
    {
      "cell_type": "markdown",
      "metadata": {
        "id": "MBqjv2o86EA8"
      },
      "source": [
        "# Chained conditionals and Nested statements:\n",
        "\n"
      ]
    },
    {
      "cell_type": "code",
      "metadata": {
        "id": "2iYA4zhc6ect"
      },
      "source": [
        "x = 21\n",
        "y = 30"
      ],
      "execution_count": null,
      "outputs": []
    },
    {
      "cell_type": "code",
      "metadata": {
        "colab": {
          "base_uri": "https://localhost:8080/"
        },
        "id": "u4v8HvkEfq_h",
        "outputId": "6c245a4b-3e82-4852-fcca-fab16dd1f68d"
      },
      "source": [
        "if not(x == y): # 'not' reverse the condition \n",
        "  print(x,y)\n",
        "else:\n",
        "  print('execute else')"
      ],
      "execution_count": null,
      "outputs": [
        {
          "output_type": "stream",
          "text": [
            "20 30\n"
          ],
          "name": "stdout"
        }
      ]
    },
    {
      "cell_type": "code",
      "metadata": {
        "id": "0u6l2wNlgpsk"
      },
      "source": [
        "if x+y < 100:\n",
        "  if x % 2 == 0:\n",
        "    print('x is divisible by 2')\n",
        "  else:\n",
        "    print('x is not divisible by 2')\n",
        "else:\n",
        "  print('x is less than 100'"
      ],
      "execution_count": null,
      "outputs": []
    },
    {
      "cell_type": "markdown",
      "metadata": {
        "id": "r61v3qCkmccF"
      },
      "source": [
        "# FOR Loops\n"
      ]
    },
    {
      "cell_type": "code",
      "metadata": {
        "colab": {
          "base_uri": "https://localhost:8080/"
        },
        "id": "b91IlkobmjSN",
        "outputId": "9f121cb2-72be-4c2e-de71-6dff8a74caf6"
      },
      "source": [
        "for i in range(2,21,2): # start, stop, steps\n",
        "  print(i)"
      ],
      "execution_count": null,
      "outputs": [
        {
          "output_type": "stream",
          "text": [
            "2\n",
            "4\n",
            "6\n",
            "8\n",
            "10\n",
            "12\n",
            "14\n",
            "16\n",
            "18\n",
            "20\n"
          ],
          "name": "stdout"
        }
      ]
    },
    {
      "cell_type": "markdown",
      "metadata": {
        "id": "c8HNJse6pA75"
      },
      "source": [
        "# WHILE Loops"
      ]
    },
    {
      "cell_type": "code",
      "metadata": {
        "colab": {
          "base_uri": "https://localhost:8080/"
        },
        "id": "H2GsXMzWpJIt",
        "outputId": "aa1a4e3a-ae57-4ea0-882e-5a75fafd5c7a"
      },
      "source": [
        "while x % 2:\n",
        "  print('x is',x)\n",
        "  x = int(input('enter a number: '))\n",
        "  if x % 2 == 0:\n",
        "    print('x is an even number')\n",
        "  else:\n",
        "    print('x is an odd number')"
      ],
      "execution_count": null,
      "outputs": [
        {
          "output_type": "stream",
          "text": [
            "x is 25\n",
            "enter a number: 23\n",
            "x is an odd number\n",
            "x is 23\n",
            "enter a number: 33\n",
            "x is an odd number\n",
            "x is 33\n",
            "enter a number: 99\n",
            "x is an odd number\n",
            "x is 99\n",
            "enter a number: 10004\n",
            "x is an even number\n"
          ],
          "name": "stdout"
        }
      ]
    },
    {
      "cell_type": "code",
      "metadata": {
        "id": "AlHgcrh9rjqq"
      },
      "source": [
        "# using break \n",
        "run = True\n",
        "while run:\n",
        "  run = input('you want to? ')\n",
        "  if run == 'Stop' or run == 'stop' or run =='STOP':\n",
        "    print('Code chunk has been',run)\n",
        "    break\n",
        "    \n"
      ],
      "execution_count": null,
      "outputs": []
    },
    {
      "cell_type": "markdown",
      "metadata": {
        "id": "1Cy1EQ-Sw8TL"
      },
      "source": [
        "# Lists and Tuples"
      ]
    },
    {
      "cell_type": "code",
      "metadata": {
        "colab": {
          "base_uri": "https://localhost:8080/"
        },
        "id": "VrIMXRJhxG0l",
        "outputId": "35ba1346-140f-4df4-9fd2-dd5ae52aded9"
      },
      "source": [
        "# Lists - List items are ordered, changeable, and allow duplicate values.\n",
        "names = ['Ajit','Jack',2]\n",
        "type(names)"
      ],
      "execution_count": null,
      "outputs": [
        {
          "output_type": "execute_result",
          "data": {
            "text/plain": [
              "list"
            ]
          },
          "metadata": {
            "tags": []
          },
          "execution_count": 47
        }
      ]
    },
    {
      "cell_type": "code",
      "metadata": {
        "colab": {
          "base_uri": "https://localhost:8080/"
        },
        "id": "ftaLlfbbQewp",
        "outputId": "8442e16a-1fad-411d-a3a7-1b2d9ef7d18c"
      },
      "source": [
        "names[-1]"
      ],
      "execution_count": null,
      "outputs": [
        {
          "output_type": "execute_result",
          "data": {
            "text/plain": [
              "2"
            ]
          },
          "metadata": {
            "tags": []
          },
          "execution_count": 49
        }
      ]
    },
    {
      "cell_type": "code",
      "metadata": {
        "id": "Jm8TXdbuQj-6"
      },
      "source": [
        "names.append('don')"
      ],
      "execution_count": null,
      "outputs": []
    },
    {
      "cell_type": "code",
      "metadata": {
        "id": "JzP6eRdUQ2f0"
      },
      "source": [
        "names[2] = 3"
      ],
      "execution_count": null,
      "outputs": []
    },
    {
      "cell_type": "code",
      "metadata": {
        "colab": {
          "base_uri": "https://localhost:8080/"
        },
        "id": "YpjNW494RVGE",
        "outputId": "5d82277b-0f6d-4898-c6cc-66a9e1e9d999"
      },
      "source": [
        "# Tuples - Tuple items are ordered, unchangeable, and allow duplicate values.\n",
        "\n",
        "pix = ('red','blue')\n",
        "print(pix)\n",
        "len(pix)"
      ],
      "execution_count": null,
      "outputs": [
        {
          "output_type": "stream",
          "text": [
            "('red', 'blue')\n"
          ],
          "name": "stdout"
        },
        {
          "output_type": "execute_result",
          "data": {
            "text/plain": [
              "2"
            ]
          },
          "metadata": {
            "tags": []
          },
          "execution_count": 84
        }
      ]
    },
    {
      "cell_type": "code",
      "metadata": {
        "colab": {
          "base_uri": "https://localhost:8080/"
        },
        "id": "J7G2TN8CScRU",
        "outputId": "d32816c1-1cf7-4e3f-e0b4-495a76cee3a3"
      },
      "source": [
        "# Create Tuple With One Item, One item tuple, remember the commma\n",
        "pix = ('black',)\n",
        "print(pix)\n",
        "type(pix)"
      ],
      "execution_count": null,
      "outputs": [
        {
          "output_type": "stream",
          "text": [
            "('black',)\n"
          ],
          "name": "stdout"
        },
        {
          "output_type": "execute_result",
          "data": {
            "text/plain": [
              "tuple"
            ]
          },
          "metadata": {
            "tags": []
          },
          "execution_count": 86
        }
      ]
    },
    {
      "cell_type": "code",
      "metadata": {
        "colab": {
          "base_uri": "https://localhost:8080/"
        },
        "id": "N8cOIJXyUIez",
        "outputId": "9cf475ad-bc60-4fa7-b0ca-585b007cba63"
      },
      "source": [
        "# Unpacking a Tuple:\n",
        "\n",
        "# Packing a tuple:\n",
        "rollno = (11,22,99,9,23)\n",
        "\n",
        "# Unpacking a tuple:\n",
        "(Ajit, shane, jack, brown, cameron) = rollno\n",
        "\n",
        "print(shane)\n",
        "print(cameron)"
      ],
      "execution_count": null,
      "outputs": [
        {
          "output_type": "stream",
          "text": [
            "22\n",
            "23\n"
          ],
          "name": "stdout"
        }
      ]
    },
    {
      "cell_type": "code",
      "metadata": {
        "colab": {
          "base_uri": "https://localhost:8080/"
        },
        "id": "UhqSwweTVytv",
        "outputId": "f2ea4269-155d-4045-b8c2-e59d0437aaad"
      },
      "source": [
        "# Unpacking a tuple with *:\n",
        "(Ajit, *shane) = rollno\n",
        "print(Ajit)\n",
        "print(shane)"
      ],
      "execution_count": null,
      "outputs": [
        {
          "output_type": "stream",
          "text": [
            "11\n",
            "[22, 99, 9, 23]\n"
          ],
          "name": "stdout"
        }
      ]
    },
    {
      "cell_type": "markdown",
      "metadata": {
        "id": "BP68U6oNSRRy"
      },
      "source": [
        "# Iteration by item"
      ]
    },
    {
      "cell_type": "code",
      "metadata": {
        "colab": {
          "base_uri": "https://localhost:8080/"
        },
        "id": "87wnjtpQSV4f",
        "outputId": "123b0775-b467-4800-c553-0d026036d182"
      },
      "source": [
        "user  = input('Type the list: ')\n"
      ],
      "execution_count": null,
      "outputs": [
        {
          "output_type": "stream",
          "text": [
            "Type the list: Ajit,jack\n"
          ],
          "name": "stdout"
        }
      ]
    },
    {
      "cell_type": "code",
      "metadata": {
        "colab": {
          "base_uri": "https://localhost:8080/"
        },
        "id": "WOiNyEitTmI6",
        "outputId": "29a57661-3e6b-48ed-9c4e-453f412344f8"
      },
      "source": [
        "for i in names:\n",
        "  if i == 'Jack':\n",
        "    print( i,'is there')\n",
        "    break\n",
        "  else:\n",
        "    print('Jack is not exist')"
      ],
      "execution_count": null,
      "outputs": [
        {
          "output_type": "stream",
          "text": [
            "Jack is not exist\n",
            "Jack is there\n"
          ],
          "name": "stdout"
        }
      ]
    },
    {
      "cell_type": "code",
      "metadata": {
        "colab": {
          "base_uri": "https://localhost:8080/"
        },
        "id": "K67aF1y_VAhn",
        "outputId": "754b60d1-251f-4a42-af0f-8c58e6a3d861"
      },
      "source": [
        "for i in range(len(names)):\n",
        "  if names[i] == 3:\n",
        "    print('3 is at index',i)\n",
        "    break\n",
        "  else:\n",
        "    print('3 is not there at index',i)"
      ],
      "execution_count": null,
      "outputs": [
        {
          "output_type": "stream",
          "text": [
            "3 is not there at index 0\n",
            "3 is not there at index 1\n",
            "3 is at index 2\n"
          ],
          "name": "stdout"
        }
      ]
    },
    {
      "cell_type": "markdown",
      "metadata": {
        "id": "dHsVaaNcXlNA"
      },
      "source": [
        "# String methods\n",
        "\n"
      ]
    },
    {
      "cell_type": "markdown",
      "metadata": {
        "id": "zSrK1v91Levp"
      },
      "source": [
        "\n",
        "* lower()\tConverts a string into lower case\n",
        "* lstrip()\tReturns a left trim version of the string\n",
        "* maketrans()\tReturns a translation table to be used in translations\n",
        "* partition()\tReturns a tuple where the string is parted into three parts\n",
        "* replace()\tReturns a string where a specified value is replaced with a specified value\n",
        "* rfind()\tSearches the string for a specified value and returns the last position of where it was found\n",
        "* rindex()\tSearches the string for a specified value and returns the last position of where it was found\n",
        "* rjust()\tReturns a right justified version of the string\n",
        "* rpartition()\tReturns a tuple where the string is parted into three parts\n",
        "* rsplit()\tSplits the string at the specified separator, and returns a list\n",
        "* rstrip()\tReturns a right trim version of the string\n",
        "* split()\tSplits the string at the specified separator, and returns a list\n",
        "* splitlines()\tSplits the string at line breaks and returns a list\n",
        "* startswith()\tReturns true if the string starts with the specified value\n",
        "* strip()\tReturns a trimmed version of the string\n",
        "* swapcase()\tSwaps cases, lower case becomes upper case and vice versa\n",
        "* title()\tConverts the first character of each word to upper case\n",
        "* translate()\tReturns a translated string\n",
        "* upper()\tConverts a string into upper case\n",
        "* zfill()\tFills the string with a specified number of 0 values at the beginning\n",
        "* capitalize()\tConverts the first character to upper case\n",
        "* casefold()\tConverts string into lower case\n",
        "* center()\tReturns a centered string\n",
        "* count()\tReturns the number of times a specified value occurs in a string\n",
        "* encode()\tReturns an encoded version of the string\n",
        "* endswith()\tReturns true if the string ends with the specified value\n",
        "* expandtabs()\tSets the tab size of the string\n",
        "* find()\tSearches the string for a specified value and returns the position of where it was found\n",
        "* format()\tFormats specified values in a string\n",
        "* format_map()\tFormats specified values in a string\n",
        "* index()\tSearches the string for a specified value and returns the position of * where it was found\n",
        "* isalnum()\tReturns True if all characters in the string are alphanumeric\n",
        "* isalpha()\tReturns True if all characters in the string are in the alphabet\n",
        "* isdecimal()\tReturns True if all characters in the string are decimals\n",
        "* isdigit()\tReturns True if all characters in the string are digits\n",
        "* isidentifier()\tReturns True if the string is an identifier\n",
        "* islower()\tReturns True if all characters in the string are lower case\n",
        "* isnumeric()\tReturns True if all characters in the string are numeric\n",
        "* isprintable()\tReturns True if all characters in the string are printable\n",
        "* isspace()\tReturns True if all characters in the string are whitespaces\n",
        "* istitle()\tReturns True if the string follows the rules of a title\n",
        "* isupper()\tReturns True if all characters in the string are upper case\n",
        "* join()\tJoins the elements of an iterable to the end of the string\n",
        "* ljust()\tReturns a left justified version of the string"
      ]
    },
    {
      "cell_type": "code",
      "metadata": {
        "id": "EW0yZhTuXqCM"
      },
      "source": [
        "# .strip(), len(), .lower(), .upper(),  .split()\n",
        "\n",
        "user = input('Enter the text: ')\n",
        "print(user.strip())"
      ],
      "execution_count": null,
      "outputs": []
    },
    {
      "cell_type": "code",
      "metadata": {
        "id": "SrYgSlW4s2wk"
      },
      "source": [
        "user = input('Enter the text: ')\n",
        "print(user.split('_')"
      ],
      "execution_count": null,
      "outputs": []
    },
    {
      "cell_type": "code",
      "metadata": {
        "id": "EzdBpsqGb6C6"
      },
      "source": [
        "# Multiline string\n",
        "a = '''what about jacob, \n",
        "ssomething worng,\n",
        "why,\n",
        "don't know'''\n",
        "print(a)"
      ],
      "execution_count": null,
      "outputs": []
    },
    {
      "cell_type": "code",
      "metadata": {
        "id": "BQlsfsezcYz6"
      },
      "source": [
        "a = 'what' # looping through string\n",
        "for i in a:\n",
        "  print(i)"
      ],
      "execution_count": null,
      "outputs": []
    },
    {
      "cell_type": "code",
      "metadata": {
        "id": "AoSkrJOgcpTu"
      },
      "source": [
        "c = \"What's up with that? \" # check the string presence using 'in', same for 'not'\n",
        "print('down' in c)"
      ],
      "execution_count": null,
      "outputs": []
    },
    {
      "cell_type": "code",
      "metadata": {
        "colab": {
          "base_uri": "https://localhost:8080/"
        },
        "id": "_1U1J62kdG-F",
        "outputId": "163d6306-2e77-403e-fecb-b4919d674838"
      },
      "source": [
        " if 'down' in c:\n",
        "   print('The words down in c')\n",
        " else:\n",
        "   print('word abscent')"
      ],
      "execution_count": null,
      "outputs": [
        {
          "output_type": "stream",
          "text": [
            "word abscent\n"
          ],
          "name": "stdout"
        }
      ]
    },
    {
      "cell_type": "markdown",
      "metadata": {
        "id": "AppURA5We2Dq"
      },
      "source": [
        "# Modify Strings\n"
      ]
    },
    {
      "cell_type": "code",
      "metadata": {
        "id": "e-yLJJ_VfHng"
      },
      "source": [
        "a = ' My name is Ajit '\n",
        "\n",
        "print(a.upper())\n",
        "print(a.lower())\n",
        "print(a.strip())\n",
        "print(a.replace(\"Ajit\",\"Bond\"))\n",
        "print(a.split())"
      ],
      "execution_count": null,
      "outputs": []
    },
    {
      "cell_type": "markdown",
      "metadata": {
        "id": "Z9uB4wu8gmrp"
      },
      "source": [
        "# String Concatenation \n"
      ]
    },
    {
      "cell_type": "code",
      "metadata": {
        "colab": {
          "base_uri": "https://localhost:8080/"
        },
        "id": "VwLG7lfSgsiE",
        "outputId": "d6558500-a306-45f7-8065-dfc4ae19cfd4"
      },
      "source": [
        "a = 'My name is'\n",
        "b = 'Ajit'\n",
        "c = a + ' ' + b  # merge and add space between them\n",
        "print(c)"
      ],
      "execution_count": null,
      "outputs": [
        {
          "output_type": "stream",
          "text": [
            "My name is Ajit\n"
          ],
          "name": "stdout"
        }
      ]
    },
    {
      "cell_type": "code",
      "metadata": {
        "colab": {
          "base_uri": "https://localhost:8080/"
        },
        "id": "-kw2s9IZhbNl",
        "outputId": "b0747d15-fff0-4522-b9ec-d67dc418913c"
      },
      "source": [
        "d = 26\n",
        "c = c + ' ' + \"and I am {}\" # using '{} and .format method to insert int into string\n",
        "print(c.format(d))"
      ],
      "execution_count": null,
      "outputs": [
        {
          "output_type": "stream",
          "text": [
            "My name is Ajit and I am 26\n"
          ],
          "name": "stdout"
        }
      ]
    },
    {
      "cell_type": "code",
      "metadata": {
        "colab": {
          "base_uri": "https://localhost:8080/"
        },
        "id": "PjzWP-Zijlii",
        "outputId": "81b8d324-9260-469f-96e9-dc9e9e6dcd44"
      },
      "source": [
        "weight = '72kg'\n",
        "height = 1.78\n",
        "ethnicity = 'Indian'\n",
        "statement = \"My ethnicity is {2} with weight of {0} and height of {1}\"\n",
        "print(statement.format(weight,height,ethnicity))"
      ],
      "execution_count": null,
      "outputs": [
        {
          "output_type": "stream",
          "text": [
            "My ethnicity is Indian with weight of 72kg and height of 1.78\n"
          ],
          "name": "stdout"
        }
      ]
    },
    {
      "cell_type": "markdown",
      "metadata": {
        "id": "r-S5t-xWHFPj"
      },
      "source": [
        "# Escape Characters"
      ]
    },
    {
      "cell_type": "code",
      "metadata": {
        "id": "0AbGRDhOHKGZ"
      },
      "source": [
        "# \\' = Single Quote\n",
        "# \\\\ = Backslash\n",
        "# \\n = New Line\n",
        "# \\r = Carriage Return\n",
        "# \\t = Tab\n",
        "# \\b = Backspace\n",
        "# \\f = Form Feed\n",
        "# \\ooo = Octal value\n",
        "# \\xhh = Hex value\n",
        "\n",
        "# txt = \"we are the \"people\" of this country \"\n",
        "\n",
        "txt = \"we are the \\\"people\\\" of this country\"\n",
        "print(txt)\n",
        "txt = \"we are the \\\\people\\\\ of this country\"\n",
        "print(txt)\n",
        "txt = \"we are the \\\"people\\\" of this country \\nUSA\"\n",
        "print(txt)\n",
        "txt = \"we are the \\\"people\\\" of this  \\rcountry\"\n",
        "print(txt)\n",
        "txt = \"we are the \\\"people\\\" of this country -> \\tUSA\"\n",
        "print(txt)\n"
      ],
      "execution_count": null,
      "outputs": []
    },
    {
      "cell_type": "code",
      "metadata": {
        "id": "Nfyq0LuyJ7BV"
      },
      "source": [
        ""
      ],
      "execution_count": null,
      "outputs": []
    },
    {
      "cell_type": "markdown",
      "metadata": {
        "id": "t-aWFI2xtphu"
      },
      "source": [
        "# Slice operator"
      ]
    },
    {
      "cell_type": "code",
      "metadata": {
        "colab": {
          "base_uri": "https://localhost:8080/"
        },
        "id": "mifC7rgjttp0",
        "outputId": "0a69dade-3ef8-4baa-a72e-efca65b26a8a"
      },
      "source": [
        "user = input('Enter the text: ')\n",
        "user = user.split()"
      ],
      "execution_count": null,
      "outputs": [
        {
          "output_type": "stream",
          "text": [
            "Enter the text: 1 2 3 4 5 6 7 8 9 10\n"
          ],
          "name": "stdout"
        }
      ]
    },
    {
      "cell_type": "code",
      "metadata": {
        "colab": {
          "base_uri": "https://localhost:8080/"
        },
        "id": "8AuLEzuqu6Uv",
        "outputId": "1f82e403-c984-45cd-a1dc-0779d56f3cb1"
      },
      "source": [
        "print(user)\n",
        "print(user[2:8:2]) # user[start:stop:steps]"
      ],
      "execution_count": null,
      "outputs": [
        {
          "output_type": "stream",
          "text": [
            "['1', '2', '3', '4', '5', '6', '7', '8', '9', '10']\n",
            "['3', '5', '7']\n"
          ],
          "name": "stdout"
        }
      ]
    },
    {
      "cell_type": "code",
      "metadata": {
        "colab": {
          "base_uri": "https://localhost:8080/"
        },
        "id": "BSlHJJ2xvKG8",
        "outputId": "9860267b-72fc-4ad9-f7d2-ad5287a305e8"
      },
      "source": [
        "print(user[2]) \n",
        "user[2] = '3' # change the secound item\n",
        "print(user)"
      ],
      "execution_count": null,
      "outputs": [
        {
          "output_type": "stream",
          "text": [
            "three\n",
            "['1', '2', '3', 'four', '5', '6', '7', '8', '9', '10']\n"
          ],
          "name": "stdout"
        }
      ]
    },
    {
      "cell_type": "code",
      "metadata": {
        "id": "UFcM8z8ew7Eg"
      },
      "source": [
        "user.append(222) # adding value"
      ],
      "execution_count": null,
      "outputs": []
    },
    {
      "cell_type": "code",
      "metadata": {
        "id": "UKItPSLFz0TY"
      },
      "source": [
        "user[2:4] = ['three', 'four'] # change a range of item values"
      ],
      "execution_count": null,
      "outputs": []
    },
    {
      "cell_type": "code",
      "metadata": {
        "colab": {
          "base_uri": "https://localhost:8080/"
        },
        "id": "FCop18NLOjCY",
        "outputId": "deac5c21-688c-4c55-c26b-91dc5209e6bb"
      },
      "source": [
        "print(user)\n",
        "user.insert(-1, 11) # insert an item at specific list\n",
        "print(user)"
      ],
      "execution_count": null,
      "outputs": [
        {
          "output_type": "stream",
          "text": [
            "['1', '2', '3', 'four', '5', '6', '7', '8', '9', '10']\n",
            "['1', '2', '3', 'four', '5', '6', '7', '8', '9', 11, '10']\n"
          ],
          "name": "stdout"
        }
      ]
    },
    {
      "cell_type": "code",
      "metadata": {
        "id": "7hmEHED_Oj0s"
      },
      "source": [
        "point = [0.1,0.2,0.3] \n",
        "user.extend(point) # extend list "
      ],
      "execution_count": null,
      "outputs": []
    },
    {
      "cell_type": "code",
      "metadata": {
        "id": "HZIHhv0LPs74"
      },
      "source": [
        "tup_user = ('t0.2','t0.3')\n",
        "user.extend(tup_user) # you can add iterable objects (tuples,sets,dictionaries etc.) using '.extend' method"
      ],
      "execution_count": null,
      "outputs": []
    },
    {
      "cell_type": "code",
      "metadata": {
        "id": "N0PgBaqbQbeZ"
      },
      "source": [
        "user.remove(\"t0.2\") # remove an item from the list"
      ],
      "execution_count": null,
      "outputs": []
    },
    {
      "cell_type": "code",
      "metadata": {
        "colab": {
          "base_uri": "https://localhost:8080/",
          "height": 37
        },
        "id": "MtFjimW_Qwr1",
        "outputId": "92421b9e-b8ef-499f-d9a2-adc51eb279b8"
      },
      "source": [
        "user.pop(-1) # removes the specified index"
      ],
      "execution_count": null,
      "outputs": [
        {
          "output_type": "execute_result",
          "data": {
            "application/vnd.google.colaboratory.intrinsic+json": {
              "type": "string"
            },
            "text/plain": [
              "'t0.2'"
            ]
          },
          "metadata": {
            "tags": []
          },
          "execution_count": 77
        }
      ]
    },
    {
      "cell_type": "code",
      "metadata": {
        "colab": {
          "base_uri": "https://localhost:8080/"
        },
        "id": "ds49C1qpSGKv",
        "outputId": "f1136776-f275-4b7a-eb02-fb691a8164f3"
      },
      "source": [
        "# List comprehension\n",
        "\n",
        "user = [122,22,3,444,2,99,0.1]\n",
        "rub =[]\n",
        "\n",
        "for i in user:\n",
        "  if i < 5:\n",
        "    rub.append(i)\n",
        "\n",
        "print(rub)\n"
      ],
      "execution_count": null,
      "outputs": [
        {
          "output_type": "stream",
          "text": [
            "[3, 2, 0.1]\n"
          ],
          "name": "stdout"
        }
      ]
    },
    {
      "cell_type": "code",
      "metadata": {
        "colab": {
          "base_uri": "https://localhost:8080/"
        },
        "id": "od18PkdDzG9h",
        "outputId": "b564eadf-8381-48c8-97f8-d7ab8f60b709"
      },
      "source": [
        "name = ['fox_1','cnn_1','abc','nbc','fox_2','cnn_2','fox_3','cnn_3','fox_4','cnn_4']\n",
        "fox = []\n",
        "cnn = []\n",
        "others = []\n",
        "\n",
        "for i in name:\n",
        "  if 'fox' in i:\n",
        "    fox.append(i)\n",
        "  elif 'cnn' in i:\n",
        "    cnn.append(i)\n",
        "  else:\n",
        "    others.append(i)\n",
        "print('Items belongs to fox are',fox)\n",
        "print('Items belongs to cnn are',cnn)\n",
        "print('Items belongs to others are',others)\n"
      ],
      "execution_count": null,
      "outputs": [
        {
          "output_type": "stream",
          "text": [
            "Items belongs to fox are ['fox_1', 'fox_2', 'fox_3', 'fox_4']\n",
            "Items belongs to cnn are ['cnn_1', 'cnn_2', 'cnn_3', 'cnn_4']\n",
            "Items belongs to others are ['abc', 'nbc']\n"
          ],
          "name": "stdout"
        }
      ]
    },
    {
      "cell_type": "code",
      "metadata": {
        "colab": {
          "base_uri": "https://localhost:8080/"
        },
        "id": "7HEWdZ2MUJi_",
        "outputId": "e7210b85-2c51-476a-f71d-bd38254dbe34"
      },
      "source": [
        "# fox_new = [expression for item in iterable if condition == True]\n",
        "fox_new = [i for i in name if 'fox' in i]\n",
        "print(fox_new)"
      ],
      "execution_count": null,
      "outputs": [
        {
          "output_type": "stream",
          "text": [
            "['fox_1', 'fox_2', 'fox_3', 'fox_4']\n"
          ],
          "name": "stdout"
        }
      ]
    },
    {
      "cell_type": "code",
      "metadata": {
        "colab": {
          "base_uri": "https://localhost:8080/"
        },
        "id": "TCwlkcZm0N0z",
        "outputId": "691096a3-89ca-417d-e089-091b044e369b"
      },
      "source": [
        "# Iterable:\n",
        "\n",
        "# i)\n",
        "itera = [i for i in range(10)]\n",
        "print(itera)\n",
        "\n",
        "# ii)\n",
        "for i in range(10):\n",
        "  print(i)\n",
        "\n",
        "# iii)\n",
        "itera = [i for i in range(1,50) if i % 2 == 0]\n",
        "print(itera)\n",
        "\n",
        "# iv)\n",
        "fox_new_u = [i.upper() for i in fox_new]\n",
        "print(fox_new_u)\n",
        "\n",
        "# v)\n",
        "fox_don = ['DON' for i in fox_new_u if 'FOX' in i]\n",
        "print(fox_don)\n",
        "\n",
        "# vi)\n",
        "print([i if i != 'cnn_1' else 'fake_news' for i in name]) # if i is not equal to cnn then print the item, or else print fake news"
      ],
      "execution_count": null,
      "outputs": [
        {
          "output_type": "stream",
          "text": [
            "['fox_1', 'fake_news', 'abc', 'nbc', 'fox_2', 'cnn_2', 'fox_3', 'cnn_3', 'fox_4', 'cnn_4']\n"
          ],
          "name": "stdout"
        }
      ]
    },
    {
      "cell_type": "markdown",
      "metadata": {
        "id": "alEoLW-T8t84"
      },
      "source": [
        "# Sort, Copy and Join Lists"
      ]
    },
    {
      "cell_type": "code",
      "metadata": {
        "id": "-pevp-rl85N2"
      },
      "source": [
        "name.sort()\n",
        "print(name)"
      ],
      "execution_count": null,
      "outputs": []
    },
    {
      "cell_type": "code",
      "metadata": {
        "id": "e_eRAsb5Hm0c"
      },
      "source": [
        "num = [1,343,-1]\n",
        "print(num)\n",
        "num.sort()\n",
        "print(num)"
      ],
      "execution_count": null,
      "outputs": []
    },
    {
      "cell_type": "code",
      "metadata": {
        "colab": {
          "base_uri": "https://localhost:8080/"
        },
        "id": "WnRS4BwiHu9r",
        "outputId": "2735eca6-edc5-43c9-f96c-81174ee5008f"
      },
      "source": [
        "print(num)\n",
        "num.sort(reverse = True)\n",
        "print(num)"
      ],
      "execution_count": null,
      "outputs": [
        {
          "output_type": "stream",
          "text": [
            "[-1, 1, 343]\n",
            "[343, 1, -1]\n"
          ],
          "name": "stdout"
        }
      ]
    },
    {
      "cell_type": "code",
      "metadata": {
        "id": "XOsMB1tmI541"
      },
      "source": [
        "# Customize sort function\n",
        "num = [-1, -30 , 1, 4, 100]"
      ],
      "execution_count": null,
      "outputs": []
    },
    {
      "cell_type": "code",
      "metadata": {
        "id": "TPh-igNrKyjn"
      },
      "source": [
        "def func(n):\n",
        "  return abs(n - -100)\n"
      ],
      "execution_count": null,
      "outputs": []
    },
    {
      "cell_type": "code",
      "metadata": {
        "colab": {
          "base_uri": "https://localhost:8080/"
        },
        "id": "K11LgoSlMAmM",
        "outputId": "3c0e294a-e528-4125-ae65-8131d76e1e5f"
      },
      "source": [
        "num.sort(key= func)\n",
        "print(num)"
      ],
      "execution_count": null,
      "outputs": [
        {
          "output_type": "stream",
          "text": [
            "[-30, -1, 1, 4, 100]\n"
          ],
          "name": "stdout"
        }
      ]
    },
    {
      "cell_type": "code",
      "metadata": {
        "colab": {
          "base_uri": "https://localhost:8080/"
        },
        "id": "WUdfYImNNaFl",
        "outputId": "74926a8b-8e33-4b65-f060-8ce21f99e205"
      },
      "source": [
        "name = ['ajit','big','Big']\n",
        "print(name)"
      ],
      "execution_count": null,
      "outputs": [
        {
          "output_type": "stream",
          "text": [
            "['ajit', 'big', 'Big']\n"
          ],
          "name": "stdout"
        }
      ]
    },
    {
      "cell_type": "code",
      "metadata": {
        "colab": {
          "base_uri": "https://localhost:8080/"
        },
        "id": "dlgXdJtvN5Jv",
        "outputId": "a5e37e6f-f384-447d-c2a9-9f4c9d2bd648"
      },
      "source": [
        "name.sort(key= str.lower)\n",
        "print(name)"
      ],
      "execution_count": null,
      "outputs": [
        {
          "output_type": "stream",
          "text": [
            "['ajit', 'big', 'Big']\n"
          ],
          "name": "stdout"
        }
      ]
    },
    {
      "cell_type": "code",
      "metadata": {
        "colab": {
          "base_uri": "https://localhost:8080/"
        },
        "id": "4EsSjUj1OeOJ",
        "outputId": "3006a46b-3fce-4316-805c-fee15494b804"
      },
      "source": [
        "name.sort()\n",
        "print(name)"
      ],
      "execution_count": null,
      "outputs": [
        {
          "output_type": "stream",
          "text": [
            "['Big', 'ajit', 'big']\n"
          ],
          "name": "stdout"
        }
      ]
    },
    {
      "cell_type": "code",
      "metadata": {
        "colab": {
          "base_uri": "https://localhost:8080/"
        },
        "id": "tpYjyQcHPL6M",
        "outputId": "52fb3937-1001-44d7-a813-4387202e4d0b"
      },
      "source": [
        "# copy a list\n",
        "name_cop = name.copy()\n",
        "print (name_cop)"
      ],
      "execution_count": null,
      "outputs": [
        {
          "output_type": "stream",
          "text": [
            "['Big', 'ajit', 'big']\n"
          ],
          "name": "stdout"
        }
      ]
    },
    {
      "cell_type": "code",
      "metadata": {
        "colab": {
          "base_uri": "https://localhost:8080/"
        },
        "id": "Pmo2UQBYQYHm",
        "outputId": "f8ce3c44-3b8a-4e59-b038-9daefd94d4ac"
      },
      "source": [
        "# Join Lists\n",
        "name_num = name + num\n",
        "print(name_num)"
      ],
      "execution_count": null,
      "outputs": [
        {
          "output_type": "stream",
          "text": [
            "['Big', 'ajit', 'big', -30, -1, 1, 4, 100]\n"
          ],
          "name": "stdout"
        }
      ]
    },
    {
      "cell_type": "code",
      "metadata": {
        "colab": {
          "base_uri": "https://localhost:8080/"
        },
        "id": "-ewulOJgQ_ea",
        "outputId": "4ff69e08-35e5-4da8-9104-428578d65024"
      },
      "source": [
        "# we can also use .append() or .extend()\n",
        "\n",
        "for i in num:\n",
        "  name_cop.append(i)\n",
        "\n",
        "print(name_cop)"
      ],
      "execution_count": null,
      "outputs": [
        {
          "output_type": "stream",
          "text": [
            "['Big', 'ajit', 'big', -30, -1, 1, 4, 100]\n"
          ],
          "name": "stdout"
        }
      ]
    },
    {
      "cell_type": "code",
      "metadata": {
        "colab": {
          "base_uri": "https://localhost:8080/"
        },
        "id": "aoYDxfywRgLB",
        "outputId": "49b3224b-996d-4c7e-c25c-89cfed6539f8"
      },
      "source": [
        "name_cop.extend(num)\n",
        "print(name_cop)"
      ],
      "execution_count": null,
      "outputs": [
        {
          "output_type": "stream",
          "text": [
            "['Big', 'ajit', 'big', -30, -1, 1, 4, 100, -30, -1, 1, 4, 100]\n"
          ],
          "name": "stdout"
        }
      ]
    },
    {
      "cell_type": "markdown",
      "metadata": {
        "id": "98y4ynDU0c45"
      },
      "source": [
        "# Functions"
      ]
    },
    {
      "cell_type": "code",
      "metadata": {
        "id": "iZZpsO910gNf"
      },
      "source": [
        "def repeat(x, y):\n",
        "  for i in range(0,x):\n",
        "    print(y)"
      ],
      "execution_count": null,
      "outputs": []
    },
    {
      "cell_type": "code",
      "metadata": {
        "colab": {
          "base_uri": "https://localhost:8080/"
        },
        "id": "T1BOMpgEaUxt",
        "outputId": "ebb2941f-8b35-41a9-e719-d886fb0b2e4f"
      },
      "source": [
        "repeat(4, 'hello')"
      ],
      "execution_count": null,
      "outputs": [
        {
          "output_type": "stream",
          "text": [
            "hello\n",
            "hello\n",
            "hello\n",
            "hello\n"
          ],
          "name": "stdout"
        }
      ]
    },
    {
      "cell_type": "code",
      "metadata": {
        "id": "j4v3pDGTHUJV"
      },
      "source": [
        "import math as mat\n",
        "import numpy as np\n",
        "\n"
      ],
      "execution_count": null,
      "outputs": []
    }
  ]
}